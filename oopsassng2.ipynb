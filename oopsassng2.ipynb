{
 "cells": [
  {
   "cell_type": "code",
   "execution_count": null,
   "id": "ffe2dcf9-ee31-4215-a959-7ed867e99d82",
   "metadata": {},
   "outputs": [],
   "source": [
    "Q1. What is Abstraction in OOps? Explain with an example.\n"
   ]
  },
  {
   "cell_type": "markdown",
   "id": "2ec82333-2d54-4e7e-8ee2-e15934f42e20",
   "metadata": {},
   "source": [
    "\n",
    "Abstraction in object-oriented programming (OOP) is the process of representing complex real-world entities as simplified models\n",
    "within a program.\n",
    "It involves identifying the essential characteristics and behaviors of an object while hiding unnecessary detail"
   ]
  },
  {
   "cell_type": "code",
   "execution_count": null,
   "id": "9cfc6107-dac8-4817-8010-7b7fbccc4922",
   "metadata": {},
   "outputs": [],
   "source": []
  },
  {
   "cell_type": "code",
   "execution_count": null,
   "id": "c6011129-22c3-4467-9121-536b25dab9e6",
   "metadata": {},
   "outputs": [],
   "source": [
    "Q2. Differentiate between Abstraction and Encapsulation. Explain with an example."
   ]
  },
  {
   "cell_type": "markdown",
   "id": "9d9f1285-2bdf-42ed-98d5-27b707c89cd5",
   "metadata": {},
   "source": [
    "Abstraction is about representing the essential features of an object and hiding the unnecessary details, providing a\n",
    "high-level view of the object. It focuses on defining the interface and functionality that is relevant to the user while\n",
    "hiding the internal implementation.\n",
    "Abstraction allows users to work with objects at a conceptual level without worrying about the implementation details.\n",
    "\n",
    "Encapsulation, on the other hand, is about bundling data (attributes) and the methods (behaviors) that operate on that data into a\n",
    "single unit called an object. It provides data hiding and ensures that the data is accessed and modified through defined methods. \n",
    "Encapsulation protects the internal state of an object and prevents direct access to the implementation details."
   ]
  },
  {
   "cell_type": "code",
   "execution_count": 1,
   "id": "d216db9d-6ab2-477d-a8ff-47d689fd4f25",
   "metadata": {},
   "outputs": [
    {
     "name": "stdout",
     "output_type": "stream",
     "text": [
      "1300\n",
      "1300\n"
     ]
    }
   ],
   "source": [
    "class BankAccount:\n",
    "    def __init__(self, account_number, balance):\n",
    "        self.account_number = account_number\n",
    "        self.balance = balance\n",
    "\n",
    "    def deposit(self, amount):\n",
    "        self.balance += amount\n",
    "\n",
    "    def withdraw(self, amount):\n",
    "        if amount <= self.balance:\n",
    "            self.balance -= amount\n",
    "        else:\n",
    "            print(\"Insufficient balance\")\n",
    "\n",
    "    def get_balance(self):\n",
    "        return self.balance\n",
    "\n",
    "# Abstraction: Users only interact with high-level functionalities\n",
    "account = BankAccount(\"1234567890\", 1000)\n",
    "account.deposit(500)\n",
    "account.withdraw(200)\n",
    "print(account.get_balance())\n",
    "\n",
    "# Encapsulation: Direct access to attributes is prevented\n",
    "print(account.balance)  # Not recommended, bypassing encapsulation\n"
   ]
  },
  {
   "cell_type": "markdown",
   "id": "06c4ffaa-e398-43dc-ae2b-840feb51769e",
   "metadata": {},
   "source": [
    "Q3. What is the abc module in Python? Why is it used?\n",
    "\n",
    "The abc module in Python stands for \"Abstract Base Classes.\" It provides infrastructure for defining abstract base classes, \n",
    "which are classes that cannot be instantiated directly but serve as templates for derived classes.\n",
    "\n",
    "The abc module provides the ABC class and the abstractmethod decorator, which are used to define abstract methods and abstract base classes.\n",
    "An abstract method is a method declared in an abstract base class but does not provide an implementation.\n",
    "Derived classes must override these abstract methods to provide their own implementations."
   ]
  },
  {
   "cell_type": "markdown",
   "id": "32896471-4cd2-4815-a6fc-01c1d4d8972f",
   "metadata": {},
   "source": [
    "The abc module is used for achieving abstraction and enforcing certain interfaces or behaviors in derived classes.\n",
    " It allows the creation of abstract base classes that define a common interface that derived classes must follow.\n",
    "By using abstract base classes, we can ensure that derived classes adhere to a certain contract and provide specific functionality."
   ]
  },
  {
   "cell_type": "code",
   "execution_count": 2,
   "id": "57dc0ceb-563e-47d2-907f-da3b2696abd1",
   "metadata": {},
   "outputs": [
    {
     "name": "stdout",
     "output_type": "stream",
     "text": [
      "20\n",
      "28.259999999999998\n"
     ]
    }
   ],
   "source": [
    "from abc import ABC, abstractmethod\n",
    "\n",
    "class Shape(ABC):\n",
    "    @abstractmethod\n",
    "    def calculate_area(self):\n",
    "        pass\n",
    "\n",
    "class Rectangle(Shape):\n",
    "    def __init__(self, length, width):\n",
    "        self.length = length\n",
    "        self.width = width\n",
    "\n",
    "    def calculate_area(self):\n",
    "        return self.length * self.width\n",
    "\n",
    "class Circle(Shape):\n",
    "    def __init__(self, radius):\n",
    "        self.radius = radius\n",
    "\n",
    "    def calculate_area(self):\n",
    "        return 3.14 * self.radius * self.radius\n",
    "\n",
    "# Attempting to instantiate the abstract base class directly raises an error\n",
    "# shape = Shape()  # TypeError: Can't instantiate abstract class Shape with abstract methods calculate_area\n",
    "\n",
    "# Creating objects of the derived classes\n",
    "rectangle = Rectangle(4, 5)\n",
    "circle = Circle(3)\n",
    "\n",
    "# Invoking the common method on the derived objects\n",
    "print(rectangle.calculate_area())  # Output: 20\n",
    "print(circle.calculate_area())  # Output: 28.26\n"
   ]
  },
  {
   "cell_type": "code",
   "execution_count": null,
   "id": "e3aef8d3-c10e-4e71-bb8f-f966af2ddeb7",
   "metadata": {},
   "outputs": [],
   "source": [
    "Q4. How can we achieve data abstraction?\n",
    "\n",
    "Data abstraction in object-oriented programming (OOP) can be achieved by combining encapsulation\n",
    "and abstraction concepts. Encapsulation helps in hiding the internal data and providing controlled access to it, while\n",
    "abstraction focuses on defining a simplified view of the object's attributes and behaviors.\n",
    "\n",
    "To achieve data abstraction, follow these steps:\n",
    "\n",
    "Define a class: Create a class that represents the object for which you want to achieve data abstraction.\n",
    "\n",
    "Define private attributes: Encapsulate the data by declaring them as private attributes within the class. \n",
    "In Python, you can prefix an attribute with a double underscore (__) to make it private.\n",
    "\n",
    "Define public methods: Define public methods (getter and setter methods) that provide controlled access \n",
    "to the private attributes. These methods should allow users to retrieve and modify the attribute values in a controlled manner.\n",
    "Implement abstraction: Define high-level methods that operate on the object's attributes, representing a simplified view of the object's\n",
    "behavior.\n",
    "These methods should utilize the getter and setter methods to access and manipulate the object's data."
   ]
  },
  {
   "cell_type": "code",
   "execution_count": null,
   "id": "e87da2b3-2a9a-4f60-9e66-5cf2eb59bdea",
   "metadata": {},
   "outputs": [],
   "source": []
  }
 ],
 "metadata": {
  "kernelspec": {
   "display_name": "Python 3 (ipykernel)",
   "language": "python",
   "name": "python3"
  },
  "language_info": {
   "codemirror_mode": {
    "name": "ipython",
    "version": 3
   },
   "file_extension": ".py",
   "mimetype": "text/x-python",
   "name": "python",
   "nbconvert_exporter": "python",
   "pygments_lexer": "ipython3",
   "version": "3.10.8"
  }
 },
 "nbformat": 4,
 "nbformat_minor": 5
}
